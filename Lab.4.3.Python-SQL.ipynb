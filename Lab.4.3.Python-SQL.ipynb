{
 "cells": [
  {
   "cell_type": "code",
   "execution_count": 1,
   "metadata": {},
   "outputs": [],
   "source": [
    "# importamos las librerías con las que vamos a trabajar\n",
    "\n",
    "# Trabajar con bases de datos y python\n",
    "# -----------------------------------------------------------------------\n",
    "import psycopg2\n",
    "from psycopg2 import OperationalError, errorcodes, errors\n",
    "\n",
    "\n",
    "# Trabajar con DataFrames\n",
    "# -----------------------------------------------------------------------\n",
    "import pandas as pd\n",
    "import matplotlib.pyplot as plt\n"
   ]
  },
  {
   "cell_type": "code",
   "execution_count": 2,
   "metadata": {},
   "outputs": [],
   "source": [
    "df_foursquare=pd.read_csv('data/api_foursquare.csv')\n",
    "df_foursquare=df_foursquare.drop(columns=['Unnamed: 0'])\n"
   ]
  },
  {
   "cell_type": "code",
   "execution_count": 3,
   "metadata": {},
   "outputs": [
    {
     "data": {
      "text/html": [
       "<div>\n",
       "<style scoped>\n",
       "    .dataframe tbody tr th:only-of-type {\n",
       "        vertical-align: middle;\n",
       "    }\n",
       "\n",
       "    .dataframe tbody tr th {\n",
       "        vertical-align: top;\n",
       "    }\n",
       "\n",
       "    .dataframe thead th {\n",
       "        text-align: right;\n",
       "    }\n",
       "</style>\n",
       "<table border=\"1\" class=\"dataframe\">\n",
       "  <thead>\n",
       "    <tr style=\"text-align: right;\">\n",
       "      <th></th>\n",
       "      <th>municipio</th>\n",
       "      <th>category</th>\n",
       "      <th>fsq_id</th>\n",
       "      <th>closed_bucket</th>\n",
       "      <th>distance</th>\n",
       "      <th>link</th>\n",
       "      <th>name</th>\n",
       "      <th>address</th>\n",
       "      <th>latitude</th>\n",
       "      <th>longitude</th>\n",
       "    </tr>\n",
       "  </thead>\n",
       "  <tbody>\n",
       "    <tr>\n",
       "      <th>0</th>\n",
       "      <td>ajalvir</td>\n",
       "      <td>Park</td>\n",
       "      <td>4d3c6c5b84d46ea87dddfd5c</td>\n",
       "      <td>LikelyOpen</td>\n",
       "      <td>563.0</td>\n",
       "      <td>/v3/places/4d3c6c5b84d46ea87dddfd5c</td>\n",
       "      <td>Diverjungla</td>\n",
       "      <td>Calle Segovia, 20 (Pol. Ind. Donada), 28864 Aj...</td>\n",
       "      <td>40.529921</td>\n",
       "      <td>-3.484341</td>\n",
       "    </tr>\n",
       "    <tr>\n",
       "      <th>1</th>\n",
       "      <td>ajalvir</td>\n",
       "      <td>Park</td>\n",
       "      <td>4f54f7bfe4b036244d02685b</td>\n",
       "      <td>VeryLikelyOpen</td>\n",
       "      <td>1724.0</td>\n",
       "      <td>/v3/places/4f54f7bfe4b036244d02685b</td>\n",
       "      <td>Parque Infantil</td>\n",
       "      <td>NaN</td>\n",
       "      <td>40.543867</td>\n",
       "      <td>-3.464773</td>\n",
       "    </tr>\n",
       "    <tr>\n",
       "      <th>2</th>\n",
       "      <td>ajalvir</td>\n",
       "      <td>Park</td>\n",
       "      <td>7d4ef99ca2dd4789f032a90c</td>\n",
       "      <td>LikelyOpen</td>\n",
       "      <td>333.0</td>\n",
       "      <td>/v3/places/7d4ef99ca2dd4789f032a90c</td>\n",
       "      <td>Chiquitin</td>\n",
       "      <td>Ajalvir Madrid</td>\n",
       "      <td>40.531662</td>\n",
       "      <td>-3.482835</td>\n",
       "    </tr>\n",
       "    <tr>\n",
       "      <th>3</th>\n",
       "      <td>alamo-el</td>\n",
       "      <td>Park</td>\n",
       "      <td>53de1144498e8fd8d8cb3537</td>\n",
       "      <td>LikelyOpen</td>\n",
       "      <td>118.0</td>\n",
       "      <td>/v3/places/53de1144498e8fd8d8cb3537</td>\n",
       "      <td>Isla Perejil</td>\n",
       "      <td>28607 El Alamo Comunidad de Madrid</td>\n",
       "      <td>40.230993</td>\n",
       "      <td>-3.991942</td>\n",
       "    </tr>\n",
       "    <tr>\n",
       "      <th>4</th>\n",
       "      <td>alamo-el</td>\n",
       "      <td>Park</td>\n",
       "      <td>51a8f451498ecb8334de37df</td>\n",
       "      <td>LikelyOpen</td>\n",
       "      <td>582.0</td>\n",
       "      <td>/v3/places/51a8f451498ecb8334de37df</td>\n",
       "      <td>Parque de Madera</td>\n",
       "      <td>NaN</td>\n",
       "      <td>40.234636</td>\n",
       "      <td>-3.995166</td>\n",
       "    </tr>\n",
       "  </tbody>\n",
       "</table>\n",
       "</div>"
      ],
      "text/plain": [
       "  municipio category                    fsq_id   closed_bucket  distance  \\\n",
       "0   ajalvir     Park  4d3c6c5b84d46ea87dddfd5c      LikelyOpen     563.0   \n",
       "1   ajalvir     Park  4f54f7bfe4b036244d02685b  VeryLikelyOpen    1724.0   \n",
       "2   ajalvir     Park  7d4ef99ca2dd4789f032a90c      LikelyOpen     333.0   \n",
       "3  alamo-el     Park  53de1144498e8fd8d8cb3537      LikelyOpen     118.0   \n",
       "4  alamo-el     Park  51a8f451498ecb8334de37df      LikelyOpen     582.0   \n",
       "\n",
       "                                  link              name  \\\n",
       "0  /v3/places/4d3c6c5b84d46ea87dddfd5c       Diverjungla   \n",
       "1  /v3/places/4f54f7bfe4b036244d02685b   Parque Infantil   \n",
       "2  /v3/places/7d4ef99ca2dd4789f032a90c         Chiquitin   \n",
       "3  /v3/places/53de1144498e8fd8d8cb3537      Isla Perejil   \n",
       "4  /v3/places/51a8f451498ecb8334de37df  Parque de Madera   \n",
       "\n",
       "                                             address   latitude  longitude  \n",
       "0  Calle Segovia, 20 (Pol. Ind. Donada), 28864 Aj...  40.529921  -3.484341  \n",
       "1                                                NaN  40.543867  -3.464773  \n",
       "2                                     Ajalvir Madrid  40.531662  -3.482835  \n",
       "3                 28607 El Alamo Comunidad de Madrid  40.230993  -3.991942  \n",
       "4                                                NaN  40.234636  -3.995166  "
      ]
     },
     "execution_count": 3,
     "metadata": {},
     "output_type": "execute_result"
    }
   ],
   "source": [
    "df_foursquare.head()"
   ]
  },
  {
   "cell_type": "code",
   "execution_count": 4,
   "metadata": {},
   "outputs": [
    {
     "data": {
      "text/plain": [
       "municipio         object\n",
       "category          object\n",
       "fsq_id            object\n",
       "closed_bucket     object\n",
       "distance         float64\n",
       "link              object\n",
       "name              object\n",
       "address           object\n",
       "latitude         float64\n",
       "longitude        float64\n",
       "dtype: object"
      ]
     },
     "execution_count": 4,
     "metadata": {},
     "output_type": "execute_result"
    }
   ],
   "source": [
    "df_foursquare.dtypes"
   ]
  },
  {
   "cell_type": "code",
   "execution_count": 5,
   "metadata": {},
   "outputs": [
    {
     "data": {
      "text/plain": [
       "(907, 10)"
      ]
     },
     "execution_count": 5,
     "metadata": {},
     "output_type": "execute_result"
    }
   ],
   "source": [
    "df_foursquare.shape"
   ]
  },
  {
   "cell_type": "code",
   "execution_count": 6,
   "metadata": {},
   "outputs": [
    {
     "data": {
      "text/plain": [
       "Index(['municipio', 'category', 'fsq_id', 'closed_bucket', 'distance', 'link',\n",
       "       'name', 'address', 'latitude', 'longitude'],\n",
       "      dtype='object')"
      ]
     },
     "execution_count": 6,
     "metadata": {},
     "output_type": "execute_result"
    }
   ],
   "source": [
    "df_foursquare.columns"
   ]
  },
  {
   "cell_type": "code",
   "execution_count": 7,
   "metadata": {},
   "outputs": [
    {
     "data": {
      "text/plain": [
       "municipio         96\n",
       "category          10\n",
       "fsq_id           822\n",
       "closed_bucket      3\n",
       "distance         724\n",
       "link             822\n",
       "name             764\n",
       "address          491\n",
       "latitude         811\n",
       "longitude        812\n",
       "dtype: int64"
      ]
     },
     "execution_count": 7,
     "metadata": {},
     "output_type": "execute_result"
    }
   ],
   "source": [
    "df_foursquare.nunique()"
   ]
  },
  {
   "cell_type": "code",
   "execution_count": 8,
   "metadata": {},
   "outputs": [
    {
     "data": {
      "text/plain": [
       "array(['LikelyOpen', 'VeryLikelyOpen', 'Unsure'], dtype=object)"
      ]
     },
     "execution_count": 8,
     "metadata": {},
     "output_type": "execute_result"
    }
   ],
   "source": [
    "df_foursquare['closed_bucket'].unique()"
   ]
  },
  {
   "cell_type": "code",
   "execution_count": 9,
   "metadata": {},
   "outputs": [],
   "source": [
    "lista_lugares=[]\n",
    "for fila in df_foursquare.values:\n",
    "    lista_lugares.append(tuple(fila))\n",
    "\n",
    "# lista_lugares"
   ]
  },
  {
   "cell_type": "code",
   "execution_count": 10,
   "metadata": {},
   "outputs": [
    {
     "data": {
      "text/html": [
       "<div>\n",
       "<style scoped>\n",
       "    .dataframe tbody tr th:only-of-type {\n",
       "        vertical-align: middle;\n",
       "    }\n",
       "\n",
       "    .dataframe tbody tr th {\n",
       "        vertical-align: top;\n",
       "    }\n",
       "\n",
       "    .dataframe thead th {\n",
       "        text-align: right;\n",
       "    }\n",
       "</style>\n",
       "<table border=\"1\" class=\"dataframe\">\n",
       "  <thead>\n",
       "    <tr style=\"text-align: right;\">\n",
       "      <th></th>\n",
       "      <th>fecha</th>\n",
       "      <th>cielo</th>\n",
       "      <th>temp._(°c)</th>\n",
       "      <th>sen._térmica_(°c)</th>\n",
       "      <th>racha_máx._(km/h)</th>\n",
       "      <th>precipitación_(mm)</th>\n",
       "      <th>nieve_(mm)</th>\n",
       "      <th>humedad_relativa_(%)</th>\n",
       "      <th>prob._precip.__(%)</th>\n",
       "      <th>prob._de_nieve_(%)</th>\n",
       "      <th>prob._de_tormenta_(%)</th>\n",
       "      <th>avisos</th>\n",
       "      <th>dirección_viento</th>\n",
       "      <th>velocidad_del_viento</th>\n",
       "      <th>localizacion_id</th>\n",
       "    </tr>\n",
       "  </thead>\n",
       "  <tbody>\n",
       "    <tr>\n",
       "      <th>0</th>\n",
       "      <td>2024-08-29 12:00:00</td>\n",
       "      <td>Nubes altas</td>\n",
       "      <td>21</td>\n",
       "      <td>21</td>\n",
       "      <td>25.0</td>\n",
       "      <td>0.0</td>\n",
       "      <td>0</td>\n",
       "      <td>69</td>\n",
       "      <td>95</td>\n",
       "      <td>0</td>\n",
       "      <td>75</td>\n",
       "      <td>Riesgo</td>\n",
       "      <td>S</td>\n",
       "      <td>7</td>\n",
       "      <td>acebeda-la-id28001</td>\n",
       "    </tr>\n",
       "    <tr>\n",
       "      <th>1</th>\n",
       "      <td>2024-08-29 13:00:00</td>\n",
       "      <td>Nubes altas</td>\n",
       "      <td>24</td>\n",
       "      <td>24</td>\n",
       "      <td>29.0</td>\n",
       "      <td>0.0</td>\n",
       "      <td>0</td>\n",
       "      <td>57</td>\n",
       "      <td>Riesgo</td>\n",
       "      <td>0</td>\n",
       "      <td>75</td>\n",
       "      <td>Riesgo</td>\n",
       "      <td>SE</td>\n",
       "      <td>12</td>\n",
       "      <td>acebeda-la-id28001</td>\n",
       "    </tr>\n",
       "    <tr>\n",
       "      <th>2</th>\n",
       "      <td>2024-08-29 14:00:00</td>\n",
       "      <td>Muy nuboso</td>\n",
       "      <td>23</td>\n",
       "      <td>23</td>\n",
       "      <td>33.0</td>\n",
       "      <td>0.0</td>\n",
       "      <td>0</td>\n",
       "      <td>59</td>\n",
       "      <td>100</td>\n",
       "      <td>0</td>\n",
       "      <td>80</td>\n",
       "      <td>Riesgo</td>\n",
       "      <td>S</td>\n",
       "      <td>14</td>\n",
       "      <td>acebeda-la-id28001</td>\n",
       "    </tr>\n",
       "    <tr>\n",
       "      <th>3</th>\n",
       "      <td>2024-08-29 15:00:00</td>\n",
       "      <td>Nubes altas</td>\n",
       "      <td>23</td>\n",
       "      <td>23</td>\n",
       "      <td>35.0</td>\n",
       "      <td>0.0</td>\n",
       "      <td>0</td>\n",
       "      <td>55</td>\n",
       "      <td>Riesgo</td>\n",
       "      <td>0</td>\n",
       "      <td>80</td>\n",
       "      <td>Riesgo</td>\n",
       "      <td>S</td>\n",
       "      <td>17</td>\n",
       "      <td>acebeda-la-id28001</td>\n",
       "    </tr>\n",
       "    <tr>\n",
       "      <th>4</th>\n",
       "      <td>2024-08-29 16:00:00</td>\n",
       "      <td>Nubes altas</td>\n",
       "      <td>21</td>\n",
       "      <td>21</td>\n",
       "      <td>34.0</td>\n",
       "      <td>0.0</td>\n",
       "      <td>0</td>\n",
       "      <td>65</td>\n",
       "      <td>Riesgo</td>\n",
       "      <td>0</td>\n",
       "      <td>80</td>\n",
       "      <td>Riesgo</td>\n",
       "      <td>S</td>\n",
       "      <td>20</td>\n",
       "      <td>acebeda-la-id28001</td>\n",
       "    </tr>\n",
       "  </tbody>\n",
       "</table>\n",
       "</div>"
      ],
      "text/plain": [
       "                 fecha        cielo  temp._(°c)  sen._térmica_(°c)  \\\n",
       "0  2024-08-29 12:00:00  Nubes altas          21                 21   \n",
       "1  2024-08-29 13:00:00  Nubes altas          24                 24   \n",
       "2  2024-08-29 14:00:00   Muy nuboso          23                 23   \n",
       "3  2024-08-29 15:00:00  Nubes altas          23                 23   \n",
       "4  2024-08-29 16:00:00  Nubes altas          21                 21   \n",
       "\n",
       "   racha_máx._(km/h)  precipitación_(mm)  nieve_(mm)  humedad_relativa_(%)  \\\n",
       "0               25.0                 0.0           0                    69   \n",
       "1               29.0                 0.0           0                    57   \n",
       "2               33.0                 0.0           0                    59   \n",
       "3               35.0                 0.0           0                    55   \n",
       "4               34.0                 0.0           0                    65   \n",
       "\n",
       "  prob._precip.__(%)  prob._de_nieve_(%)  prob._de_tormenta_(%)  avisos  \\\n",
       "0                 95                   0                     75  Riesgo   \n",
       "1             Riesgo                   0                     75  Riesgo   \n",
       "2                100                   0                     80  Riesgo   \n",
       "3             Riesgo                   0                     80  Riesgo   \n",
       "4             Riesgo                   0                     80  Riesgo   \n",
       "\n",
       "  dirección_viento  velocidad_del_viento     localizacion_id  \n",
       "0                S                     7  acebeda-la-id28001  \n",
       "1               SE                    12  acebeda-la-id28001  \n",
       "2                S                    14  acebeda-la-id28001  \n",
       "3                S                    17  acebeda-la-id28001  \n",
       "4                S                    20  acebeda-la-id28001  "
      ]
     },
     "execution_count": 10,
     "metadata": {},
     "output_type": "execute_result"
    }
   ],
   "source": [
    "df_aemet=pd.read_csv('data/df_aemet_final.csv')\n",
    "df_aemet.head()"
   ]
  },
  {
   "cell_type": "code",
   "execution_count": 11,
   "metadata": {},
   "outputs": [],
   "source": [
    "df_aemet['localizacion_id'] = df_aemet['localizacion_id'].str.replace(r'-id\\d+', '', regex=True)"
   ]
  },
  {
   "cell_type": "code",
   "execution_count": 12,
   "metadata": {},
   "outputs": [
    {
     "data": {
      "text/html": [
       "<div>\n",
       "<style scoped>\n",
       "    .dataframe tbody tr th:only-of-type {\n",
       "        vertical-align: middle;\n",
       "    }\n",
       "\n",
       "    .dataframe tbody tr th {\n",
       "        vertical-align: top;\n",
       "    }\n",
       "\n",
       "    .dataframe thead th {\n",
       "        text-align: right;\n",
       "    }\n",
       "</style>\n",
       "<table border=\"1\" class=\"dataframe\">\n",
       "  <thead>\n",
       "    <tr style=\"text-align: right;\">\n",
       "      <th></th>\n",
       "      <th>fecha</th>\n",
       "      <th>cielo</th>\n",
       "      <th>temp._(°c)</th>\n",
       "      <th>sen._térmica_(°c)</th>\n",
       "      <th>racha_máx._(km/h)</th>\n",
       "      <th>precipitación_(mm)</th>\n",
       "      <th>nieve_(mm)</th>\n",
       "      <th>humedad_relativa_(%)</th>\n",
       "      <th>prob._precip.__(%)</th>\n",
       "      <th>prob._de_nieve_(%)</th>\n",
       "      <th>prob._de_tormenta_(%)</th>\n",
       "      <th>avisos</th>\n",
       "      <th>dirección_viento</th>\n",
       "      <th>velocidad_del_viento</th>\n",
       "      <th>localizacion_id</th>\n",
       "    </tr>\n",
       "  </thead>\n",
       "  <tbody>\n",
       "    <tr>\n",
       "      <th>0</th>\n",
       "      <td>2024-08-29 12:00:00</td>\n",
       "      <td>Nubes altas</td>\n",
       "      <td>21</td>\n",
       "      <td>21</td>\n",
       "      <td>25.0</td>\n",
       "      <td>0.0</td>\n",
       "      <td>0</td>\n",
       "      <td>69</td>\n",
       "      <td>95</td>\n",
       "      <td>0</td>\n",
       "      <td>75</td>\n",
       "      <td>Riesgo</td>\n",
       "      <td>S</td>\n",
       "      <td>7</td>\n",
       "      <td>acebeda-la</td>\n",
       "    </tr>\n",
       "    <tr>\n",
       "      <th>1</th>\n",
       "      <td>2024-08-29 13:00:00</td>\n",
       "      <td>Nubes altas</td>\n",
       "      <td>24</td>\n",
       "      <td>24</td>\n",
       "      <td>29.0</td>\n",
       "      <td>0.0</td>\n",
       "      <td>0</td>\n",
       "      <td>57</td>\n",
       "      <td>Riesgo</td>\n",
       "      <td>0</td>\n",
       "      <td>75</td>\n",
       "      <td>Riesgo</td>\n",
       "      <td>SE</td>\n",
       "      <td>12</td>\n",
       "      <td>acebeda-la</td>\n",
       "    </tr>\n",
       "    <tr>\n",
       "      <th>2</th>\n",
       "      <td>2024-08-29 14:00:00</td>\n",
       "      <td>Muy nuboso</td>\n",
       "      <td>23</td>\n",
       "      <td>23</td>\n",
       "      <td>33.0</td>\n",
       "      <td>0.0</td>\n",
       "      <td>0</td>\n",
       "      <td>59</td>\n",
       "      <td>100</td>\n",
       "      <td>0</td>\n",
       "      <td>80</td>\n",
       "      <td>Riesgo</td>\n",
       "      <td>S</td>\n",
       "      <td>14</td>\n",
       "      <td>acebeda-la</td>\n",
       "    </tr>\n",
       "    <tr>\n",
       "      <th>3</th>\n",
       "      <td>2024-08-29 15:00:00</td>\n",
       "      <td>Nubes altas</td>\n",
       "      <td>23</td>\n",
       "      <td>23</td>\n",
       "      <td>35.0</td>\n",
       "      <td>0.0</td>\n",
       "      <td>0</td>\n",
       "      <td>55</td>\n",
       "      <td>Riesgo</td>\n",
       "      <td>0</td>\n",
       "      <td>80</td>\n",
       "      <td>Riesgo</td>\n",
       "      <td>S</td>\n",
       "      <td>17</td>\n",
       "      <td>acebeda-la</td>\n",
       "    </tr>\n",
       "    <tr>\n",
       "      <th>4</th>\n",
       "      <td>2024-08-29 16:00:00</td>\n",
       "      <td>Nubes altas</td>\n",
       "      <td>21</td>\n",
       "      <td>21</td>\n",
       "      <td>34.0</td>\n",
       "      <td>0.0</td>\n",
       "      <td>0</td>\n",
       "      <td>65</td>\n",
       "      <td>Riesgo</td>\n",
       "      <td>0</td>\n",
       "      <td>80</td>\n",
       "      <td>Riesgo</td>\n",
       "      <td>S</td>\n",
       "      <td>20</td>\n",
       "      <td>acebeda-la</td>\n",
       "    </tr>\n",
       "  </tbody>\n",
       "</table>\n",
       "</div>"
      ],
      "text/plain": [
       "                 fecha        cielo  temp._(°c)  sen._térmica_(°c)  \\\n",
       "0  2024-08-29 12:00:00  Nubes altas          21                 21   \n",
       "1  2024-08-29 13:00:00  Nubes altas          24                 24   \n",
       "2  2024-08-29 14:00:00   Muy nuboso          23                 23   \n",
       "3  2024-08-29 15:00:00  Nubes altas          23                 23   \n",
       "4  2024-08-29 16:00:00  Nubes altas          21                 21   \n",
       "\n",
       "   racha_máx._(km/h)  precipitación_(mm)  nieve_(mm)  humedad_relativa_(%)  \\\n",
       "0               25.0                 0.0           0                    69   \n",
       "1               29.0                 0.0           0                    57   \n",
       "2               33.0                 0.0           0                    59   \n",
       "3               35.0                 0.0           0                    55   \n",
       "4               34.0                 0.0           0                    65   \n",
       "\n",
       "  prob._precip.__(%)  prob._de_nieve_(%)  prob._de_tormenta_(%)  avisos  \\\n",
       "0                 95                   0                     75  Riesgo   \n",
       "1             Riesgo                   0                     75  Riesgo   \n",
       "2                100                   0                     80  Riesgo   \n",
       "3             Riesgo                   0                     80  Riesgo   \n",
       "4             Riesgo                   0                     80  Riesgo   \n",
       "\n",
       "  dirección_viento  velocidad_del_viento localizacion_id  \n",
       "0                S                     7      acebeda-la  \n",
       "1               SE                    12      acebeda-la  \n",
       "2                S                    14      acebeda-la  \n",
       "3                S                    17      acebeda-la  \n",
       "4                S                    20      acebeda-la  "
      ]
     },
     "execution_count": 12,
     "metadata": {},
     "output_type": "execute_result"
    }
   ],
   "source": [
    "df_aemet.head()"
   ]
  },
  {
   "cell_type": "code",
   "execution_count": 13,
   "metadata": {},
   "outputs": [],
   "source": [
    "df_aemet['fecha']=pd.to_datetime(df_aemet['fecha'])"
   ]
  },
  {
   "cell_type": "code",
   "execution_count": 14,
   "metadata": {},
   "outputs": [
    {
     "data": {
      "text/plain": [
       "(7885, 15)"
      ]
     },
     "execution_count": 14,
     "metadata": {},
     "output_type": "execute_result"
    }
   ],
   "source": [
    "df_aemet.shape"
   ]
  },
  {
   "cell_type": "code",
   "execution_count": 15,
   "metadata": {},
   "outputs": [
    {
     "data": {
      "text/plain": [
       "fecha                    datetime64[ns]\n",
       "cielo                            object\n",
       "temp._(°c)                        int64\n",
       "sen._térmica_(°c)                 int64\n",
       "racha_máx._(km/h)               float64\n",
       "precipitación_(mm)              float64\n",
       "nieve_(mm)                        int64\n",
       "humedad_relativa_(%)              int64\n",
       "prob._precip.__(%)               object\n",
       "prob._de_nieve_(%)                int64\n",
       "prob._de_tormenta_(%)             int64\n",
       "avisos                           object\n",
       "dirección_viento                 object\n",
       "velocidad_del_viento              int64\n",
       "localizacion_id                  object\n",
       "dtype: object"
      ]
     },
     "execution_count": 15,
     "metadata": {},
     "output_type": "execute_result"
    }
   ],
   "source": [
    "df_aemet.dtypes"
   ]
  },
  {
   "cell_type": "code",
   "execution_count": 16,
   "metadata": {},
   "outputs": [
    {
     "data": {
      "text/plain": [
       "Index(['fecha', 'cielo', 'temp._(°c)', 'sen._térmica_(°c)',\n",
       "       'racha_máx._(km/h)', 'precipitación_(mm)', 'nieve_(mm)',\n",
       "       'humedad_relativa_(%)', 'prob._precip.__(%)', 'prob._de_nieve_(%)',\n",
       "       'prob._de_tormenta_(%)', 'avisos', 'dirección_viento',\n",
       "       'velocidad_del_viento', 'localizacion_id'],\n",
       "      dtype='object')"
      ]
     },
     "execution_count": 16,
     "metadata": {},
     "output_type": "execute_result"
    }
   ],
   "source": [
    "df_aemet.columns"
   ]
  },
  {
   "cell_type": "code",
   "execution_count": 17,
   "metadata": {},
   "outputs": [
    {
     "data": {
      "text/plain": [
       "fecha                     45\n",
       "cielo                     23\n",
       "temp._(°c)                24\n",
       "sen._térmica_(°c)         26\n",
       "racha_máx._(km/h)         70\n",
       "precipitación_(mm)        29\n",
       "nieve_(mm)                 1\n",
       "humedad_relativa_(%)      67\n",
       "prob._precip.__(%)        22\n",
       "prob._de_nieve_(%)         1\n",
       "prob._de_tormenta_(%)     19\n",
       "avisos                     2\n",
       "dirección_viento           9\n",
       "velocidad_del_viento      43\n",
       "localizacion_id          179\n",
       "dtype: int64"
      ]
     },
     "execution_count": 17,
     "metadata": {},
     "output_type": "execute_result"
    }
   ],
   "source": [
    "df_aemet.nunique()"
   ]
  },
  {
   "cell_type": "code",
   "execution_count": 19,
   "metadata": {},
   "outputs": [],
   "source": []
  },
  {
   "cell_type": "code",
   "execution_count": 18,
   "metadata": {},
   "outputs": [
    {
     "data": {
      "text/html": [
       "<div>\n",
       "<style scoped>\n",
       "    .dataframe tbody tr th:only-of-type {\n",
       "        vertical-align: middle;\n",
       "    }\n",
       "\n",
       "    .dataframe tbody tr th {\n",
       "        vertical-align: top;\n",
       "    }\n",
       "\n",
       "    .dataframe thead th {\n",
       "        text-align: right;\n",
       "    }\n",
       "</style>\n",
       "<table border=\"1\" class=\"dataframe\">\n",
       "  <thead>\n",
       "    <tr style=\"text-align: right;\">\n",
       "      <th></th>\n",
       "      <th>Unnamed: 0</th>\n",
       "      <th>acebeda-la</th>\n",
       "      <th>ajalvir</th>\n",
       "      <th>alameda-del-valle</th>\n",
       "      <th>alamo-el</th>\n",
       "      <th>alcala-de-henares</th>\n",
       "      <th>alcobendas</th>\n",
       "      <th>alcorcon</th>\n",
       "      <th>aldea-del-fresno</th>\n",
       "      <th>algete</th>\n",
       "      <th>...</th>\n",
       "      <th>villamanta</th>\n",
       "      <th>villamantilla</th>\n",
       "      <th>villanueva-de-la-canada</th>\n",
       "      <th>villanueva-del-pardillo</th>\n",
       "      <th>villanueva-de-perales</th>\n",
       "      <th>villar-del-olmo</th>\n",
       "      <th>villarejo-de-salvanes</th>\n",
       "      <th>villaviciosa-de-odon</th>\n",
       "      <th>villavieja-del-lozoya</th>\n",
       "      <th>zarzalejo</th>\n",
       "    </tr>\n",
       "  </thead>\n",
       "  <tbody>\n",
       "    <tr>\n",
       "      <th>0</th>\n",
       "      <td>0</td>\n",
       "      <td>41.0869583</td>\n",
       "      <td>40.5342302</td>\n",
       "      <td>40.9177178</td>\n",
       "      <td>40.2307296</td>\n",
       "      <td>40.4818396</td>\n",
       "      <td>40.5400082</td>\n",
       "      <td>40.3492998</td>\n",
       "      <td>40.3215212</td>\n",
       "      <td>40.5961652</td>\n",
       "      <td>...</td>\n",
       "      <td>40.2990939</td>\n",
       "      <td>40.3421033</td>\n",
       "      <td>40.4472106</td>\n",
       "      <td>40.4949232</td>\n",
       "      <td>40.3466066</td>\n",
       "      <td>40.3364465</td>\n",
       "      <td>40.1683582</td>\n",
       "      <td>40.3573787</td>\n",
       "      <td>41.0063622</td>\n",
       "      <td>40.5483016</td>\n",
       "    </tr>\n",
       "    <tr>\n",
       "      <th>1</th>\n",
       "      <td>1</td>\n",
       "      <td>-3.624399</td>\n",
       "      <td>-3.4807818</td>\n",
       "      <td>-3.8438216</td>\n",
       "      <td>-3.9905893</td>\n",
       "      <td>-3.3644973</td>\n",
       "      <td>-3.6358494</td>\n",
       "      <td>-3.8284295</td>\n",
       "      <td>-4.19936</td>\n",
       "      <td>-3.4974246</td>\n",
       "      <td>...</td>\n",
       "      <td>-4.1090399</td>\n",
       "      <td>-4.1300303</td>\n",
       "      <td>-4.002795</td>\n",
       "      <td>-3.9600065</td>\n",
       "      <td>-4.1012616</td>\n",
       "      <td>-3.2355624</td>\n",
       "      <td>-3.2738764</td>\n",
       "      <td>-3.9002334</td>\n",
       "      <td>-3.6716291</td>\n",
       "      <td>-4.1815899</td>\n",
       "    </tr>\n",
       "    <tr>\n",
       "      <th>2</th>\n",
       "      <td>2</td>\n",
       "      <td>La Acebeda</td>\n",
       "      <td>Ajalvir</td>\n",
       "      <td>Alameda del Valle</td>\n",
       "      <td>El Álamo</td>\n",
       "      <td>Alcalá de Henares</td>\n",
       "      <td>Alcobendas</td>\n",
       "      <td>Alcorcón</td>\n",
       "      <td>Aldea del Fresno</td>\n",
       "      <td>Algete</td>\n",
       "      <td>...</td>\n",
       "      <td>Villamanta</td>\n",
       "      <td>Villamantilla</td>\n",
       "      <td>Villanueva de la Cañada</td>\n",
       "      <td>Villanueva del Pardillo</td>\n",
       "      <td>Villanueva de Perales</td>\n",
       "      <td>Villar del Olmo</td>\n",
       "      <td>Villarejo de Salvanés</td>\n",
       "      <td>Villaviciosa de Odón</td>\n",
       "      <td>Villavieja del Lozoya</td>\n",
       "      <td>Zarzalejo</td>\n",
       "    </tr>\n",
       "  </tbody>\n",
       "</table>\n",
       "<p>3 rows × 177 columns</p>\n",
       "</div>"
      ],
      "text/plain": [
       "   Unnamed: 0  acebeda-la     ajalvir  alameda-del-valle    alamo-el  \\\n",
       "0           0  41.0869583  40.5342302         40.9177178  40.2307296   \n",
       "1           1   -3.624399  -3.4807818         -3.8438216  -3.9905893   \n",
       "2           2  La Acebeda     Ajalvir  Alameda del Valle    El Álamo   \n",
       "\n",
       "   alcala-de-henares  alcobendas    alcorcon  aldea-del-fresno      algete  \\\n",
       "0         40.4818396  40.5400082  40.3492998        40.3215212  40.5961652   \n",
       "1         -3.3644973  -3.6358494  -3.8284295          -4.19936  -3.4974246   \n",
       "2  Alcalá de Henares  Alcobendas    Alcorcón  Aldea del Fresno      Algete   \n",
       "\n",
       "   ...  villamanta  villamantilla  villanueva-de-la-canada  \\\n",
       "0  ...  40.2990939     40.3421033               40.4472106   \n",
       "1  ...  -4.1090399     -4.1300303                -4.002795   \n",
       "2  ...  Villamanta  Villamantilla  Villanueva de la Cañada   \n",
       "\n",
       "   villanueva-del-pardillo  villanueva-de-perales  villar-del-olmo  \\\n",
       "0               40.4949232             40.3466066       40.3364465   \n",
       "1               -3.9600065             -4.1012616       -3.2355624   \n",
       "2  Villanueva del Pardillo  Villanueva de Perales  Villar del Olmo   \n",
       "\n",
       "   villarejo-de-salvanes  villaviciosa-de-odon  villavieja-del-lozoya  \\\n",
       "0             40.1683582            40.3573787             41.0063622   \n",
       "1             -3.2738764            -3.9002334             -3.6716291   \n",
       "2  Villarejo de Salvanés  Villaviciosa de Odón  Villavieja del Lozoya   \n",
       "\n",
       "    zarzalejo  \n",
       "0  40.5483016  \n",
       "1  -4.1815899  \n",
       "2   Zarzalejo  \n",
       "\n",
       "[3 rows x 177 columns]"
      ]
     },
     "execution_count": 18,
     "metadata": {},
     "output_type": "execute_result"
    }
   ],
   "source": [
    "df_municipios=pd.read_csv('data/municipios.csv')\n",
    "df_municipios"
   ]
  },
  {
   "cell_type": "code",
   "execution_count": 19,
   "metadata": {},
   "outputs": [],
   "source": [
    "df_municipios=df_municipios.T"
   ]
  },
  {
   "cell_type": "code",
   "execution_count": 20,
   "metadata": {},
   "outputs": [],
   "source": [
    "df_municipios=df_municipios.reset_index()"
   ]
  },
  {
   "cell_type": "code",
   "execution_count": 21,
   "metadata": {},
   "outputs": [
    {
     "data": {
      "text/plain": [
       "(177, 4)"
      ]
     },
     "execution_count": 21,
     "metadata": {},
     "output_type": "execute_result"
    }
   ],
   "source": [
    "df_municipios.shape"
   ]
  },
  {
   "cell_type": "code",
   "execution_count": 22,
   "metadata": {},
   "outputs": [],
   "source": [
    "df_municipios.dtypes\n",
    "\n",
    "df_municipios=df_municipios[1:]"
   ]
  },
  {
   "cell_type": "code",
   "execution_count": 23,
   "metadata": {},
   "outputs": [
    {
     "data": {
      "text/html": [
       "<div>\n",
       "<style scoped>\n",
       "    .dataframe tbody tr th:only-of-type {\n",
       "        vertical-align: middle;\n",
       "    }\n",
       "\n",
       "    .dataframe tbody tr th {\n",
       "        vertical-align: top;\n",
       "    }\n",
       "\n",
       "    .dataframe thead th {\n",
       "        text-align: right;\n",
       "    }\n",
       "</style>\n",
       "<table border=\"1\" class=\"dataframe\">\n",
       "  <thead>\n",
       "    <tr style=\"text-align: right;\">\n",
       "      <th></th>\n",
       "      <th>index</th>\n",
       "      <th>0</th>\n",
       "      <th>1</th>\n",
       "      <th>2</th>\n",
       "    </tr>\n",
       "  </thead>\n",
       "  <tbody>\n",
       "    <tr>\n",
       "      <th>1</th>\n",
       "      <td>acebeda-la</td>\n",
       "      <td>41.0869583</td>\n",
       "      <td>-3.624399</td>\n",
       "      <td>La Acebeda</td>\n",
       "    </tr>\n",
       "    <tr>\n",
       "      <th>2</th>\n",
       "      <td>ajalvir</td>\n",
       "      <td>40.5342302</td>\n",
       "      <td>-3.4807818</td>\n",
       "      <td>Ajalvir</td>\n",
       "    </tr>\n",
       "    <tr>\n",
       "      <th>3</th>\n",
       "      <td>alameda-del-valle</td>\n",
       "      <td>40.9177178</td>\n",
       "      <td>-3.8438216</td>\n",
       "      <td>Alameda del Valle</td>\n",
       "    </tr>\n",
       "    <tr>\n",
       "      <th>4</th>\n",
       "      <td>alamo-el</td>\n",
       "      <td>40.2307296</td>\n",
       "      <td>-3.9905893</td>\n",
       "      <td>El Álamo</td>\n",
       "    </tr>\n",
       "    <tr>\n",
       "      <th>5</th>\n",
       "      <td>alcala-de-henares</td>\n",
       "      <td>40.4818396</td>\n",
       "      <td>-3.3644973</td>\n",
       "      <td>Alcalá de Henares</td>\n",
       "    </tr>\n",
       "    <tr>\n",
       "      <th>...</th>\n",
       "      <td>...</td>\n",
       "      <td>...</td>\n",
       "      <td>...</td>\n",
       "      <td>...</td>\n",
       "    </tr>\n",
       "    <tr>\n",
       "      <th>172</th>\n",
       "      <td>villar-del-olmo</td>\n",
       "      <td>40.3364465</td>\n",
       "      <td>-3.2355624</td>\n",
       "      <td>Villar del Olmo</td>\n",
       "    </tr>\n",
       "    <tr>\n",
       "      <th>173</th>\n",
       "      <td>villarejo-de-salvanes</td>\n",
       "      <td>40.1683582</td>\n",
       "      <td>-3.2738764</td>\n",
       "      <td>Villarejo de Salvanés</td>\n",
       "    </tr>\n",
       "    <tr>\n",
       "      <th>174</th>\n",
       "      <td>villaviciosa-de-odon</td>\n",
       "      <td>40.3573787</td>\n",
       "      <td>-3.9002334</td>\n",
       "      <td>Villaviciosa de Odón</td>\n",
       "    </tr>\n",
       "    <tr>\n",
       "      <th>175</th>\n",
       "      <td>villavieja-del-lozoya</td>\n",
       "      <td>41.0063622</td>\n",
       "      <td>-3.6716291</td>\n",
       "      <td>Villavieja del Lozoya</td>\n",
       "    </tr>\n",
       "    <tr>\n",
       "      <th>176</th>\n",
       "      <td>zarzalejo</td>\n",
       "      <td>40.5483016</td>\n",
       "      <td>-4.1815899</td>\n",
       "      <td>Zarzalejo</td>\n",
       "    </tr>\n",
       "  </tbody>\n",
       "</table>\n",
       "<p>176 rows × 4 columns</p>\n",
       "</div>"
      ],
      "text/plain": [
       "                     index           0           1                      2\n",
       "1               acebeda-la  41.0869583   -3.624399             La Acebeda\n",
       "2                  ajalvir  40.5342302  -3.4807818                Ajalvir\n",
       "3        alameda-del-valle  40.9177178  -3.8438216      Alameda del Valle\n",
       "4                 alamo-el  40.2307296  -3.9905893               El Álamo\n",
       "5        alcala-de-henares  40.4818396  -3.3644973      Alcalá de Henares\n",
       "..                     ...         ...         ...                    ...\n",
       "172        villar-del-olmo  40.3364465  -3.2355624        Villar del Olmo\n",
       "173  villarejo-de-salvanes  40.1683582  -3.2738764  Villarejo de Salvanés\n",
       "174   villaviciosa-de-odon  40.3573787  -3.9002334   Villaviciosa de Odón\n",
       "175  villavieja-del-lozoya  41.0063622  -3.6716291  Villavieja del Lozoya\n",
       "176              zarzalejo  40.5483016  -4.1815899              Zarzalejo\n",
       "\n",
       "[176 rows x 4 columns]"
      ]
     },
     "execution_count": 23,
     "metadata": {},
     "output_type": "execute_result"
    }
   ],
   "source": [
    "df_municipios"
   ]
  },
  {
   "cell_type": "code",
   "execution_count": null,
   "metadata": {},
   "outputs": [],
   "source": []
  },
  {
   "cell_type": "code",
   "execution_count": 24,
   "metadata": {},
   "outputs": [
    {
     "name": "stdout",
     "output_type": "stream",
     "text": [
      "176\n"
     ]
    }
   ],
   "source": [
    "df_aemet = df_aemet[df_aemet['localizacion_id'].isin(set(df_municipios['index'].unique()))]\n",
    "\n",
    "print(len(df_aemet['localizacion_id'].unique()))\n"
   ]
  },
  {
   "cell_type": "code",
   "execution_count": 25,
   "metadata": {},
   "outputs": [],
   "source": [
    "lista_datosmeteo=[]\n",
    "for fila in df_aemet.values:\n",
    "    lista_datosmeteo.append(tuple(fila))\n",
    "\n",
    "# lista_datosmeteo"
   ]
  },
  {
   "cell_type": "code",
   "execution_count": 26,
   "metadata": {},
   "outputs": [],
   "source": [
    "df_municipios.rename(columns={0: 'latitud'}, inplace=True)\n",
    "df_municipios.rename(columns={1: 'longitud'}, inplace=True)"
   ]
  },
  {
   "cell_type": "code",
   "execution_count": 27,
   "metadata": {},
   "outputs": [],
   "source": [
    "df_municipios['latitud']=df_municipios['latitud'].astype(float)\n",
    "df_municipios['longitud']=df_municipios['longitud'].astype(float)"
   ]
  },
  {
   "cell_type": "code",
   "execution_count": 28,
   "metadata": {},
   "outputs": [
    {
     "data": {
      "text/plain": [
       "index        object\n",
       "latitud     float64\n",
       "longitud    float64\n",
       "2            object\n",
       "dtype: object"
      ]
     },
     "execution_count": 28,
     "metadata": {},
     "output_type": "execute_result"
    }
   ],
   "source": [
    "df_municipios.dtypes"
   ]
  },
  {
   "cell_type": "code",
   "execution_count": 29,
   "metadata": {},
   "outputs": [
    {
     "data": {
      "text/html": [
       "<div>\n",
       "<style scoped>\n",
       "    .dataframe tbody tr th:only-of-type {\n",
       "        vertical-align: middle;\n",
       "    }\n",
       "\n",
       "    .dataframe tbody tr th {\n",
       "        vertical-align: top;\n",
       "    }\n",
       "\n",
       "    .dataframe thead th {\n",
       "        text-align: right;\n",
       "    }\n",
       "</style>\n",
       "<table border=\"1\" class=\"dataframe\">\n",
       "  <thead>\n",
       "    <tr style=\"text-align: right;\">\n",
       "      <th></th>\n",
       "      <th>index</th>\n",
       "      <th>latitud</th>\n",
       "      <th>longitud</th>\n",
       "      <th>2</th>\n",
       "    </tr>\n",
       "  </thead>\n",
       "  <tbody>\n",
       "    <tr>\n",
       "      <th>1</th>\n",
       "      <td>acebeda-la</td>\n",
       "      <td>41.086958</td>\n",
       "      <td>-3.624399</td>\n",
       "      <td>La Acebeda</td>\n",
       "    </tr>\n",
       "    <tr>\n",
       "      <th>2</th>\n",
       "      <td>ajalvir</td>\n",
       "      <td>40.534230</td>\n",
       "      <td>-3.480782</td>\n",
       "      <td>Ajalvir</td>\n",
       "    </tr>\n",
       "    <tr>\n",
       "      <th>3</th>\n",
       "      <td>alameda-del-valle</td>\n",
       "      <td>40.917718</td>\n",
       "      <td>-3.843822</td>\n",
       "      <td>Alameda del Valle</td>\n",
       "    </tr>\n",
       "    <tr>\n",
       "      <th>4</th>\n",
       "      <td>alamo-el</td>\n",
       "      <td>40.230730</td>\n",
       "      <td>-3.990589</td>\n",
       "      <td>El Álamo</td>\n",
       "    </tr>\n",
       "    <tr>\n",
       "      <th>5</th>\n",
       "      <td>alcala-de-henares</td>\n",
       "      <td>40.481840</td>\n",
       "      <td>-3.364497</td>\n",
       "      <td>Alcalá de Henares</td>\n",
       "    </tr>\n",
       "  </tbody>\n",
       "</table>\n",
       "</div>"
      ],
      "text/plain": [
       "               index    latitud  longitud                  2\n",
       "1         acebeda-la  41.086958 -3.624399         La Acebeda\n",
       "2            ajalvir  40.534230 -3.480782            Ajalvir\n",
       "3  alameda-del-valle  40.917718 -3.843822  Alameda del Valle\n",
       "4           alamo-el  40.230730 -3.990589           El Álamo\n",
       "5  alcala-de-henares  40.481840 -3.364497  Alcalá de Henares"
      ]
     },
     "execution_count": 29,
     "metadata": {},
     "output_type": "execute_result"
    }
   ],
   "source": [
    "df_municipios.head()"
   ]
  },
  {
   "cell_type": "code",
   "execution_count": 30,
   "metadata": {},
   "outputs": [
    {
     "data": {
      "text/plain": [
       "index       176\n",
       "latitud     176\n",
       "longitud    176\n",
       "2           176\n",
       "dtype: int64"
      ]
     },
     "execution_count": 30,
     "metadata": {},
     "output_type": "execute_result"
    }
   ],
   "source": [
    "df_municipios.nunique()"
   ]
  },
  {
   "cell_type": "code",
   "execution_count": 31,
   "metadata": {},
   "outputs": [],
   "source": [
    "lista_municipios=[]\n",
    "\n",
    "for fila in df_municipios.values:\n",
    "    lista_municipios.append(tuple(fila))\n",
    "\n",
    "# lista_municipios"
   ]
  },
  {
   "cell_type": "code",
   "execution_count": 32,
   "metadata": {},
   "outputs": [],
   "source": [
    "for i in lista_municipios:\n",
    "    if len(i)<4:\n",
    "        print(len(i))\n",
    "\n",
    "    "
   ]
  },
  {
   "cell_type": "code",
   "execution_count": 33,
   "metadata": {},
   "outputs": [],
   "source": [
    "try:\n",
    "    conexionproductora=psycopg2.connect(\n",
    "    database=\"productora\",\n",
    "    user=\"postgres\",\n",
    "    password=\"admin\",\n",
    "    host=\"localhost\",\n",
    "    port=\"5432\")\n",
    "except OperationalError as e:\n",
    "    if e.pgcode ==errorcodes.INVALID_PASSWORD:\n",
    "        print(\"La constraseña es incorrecta\")\n",
    "    elif e.pgcode ==errorcodes.CONNECTION_EXCEPTION:\n",
    "        print(\"Error de conexión\")"
   ]
  },
  {
   "cell_type": "code",
   "execution_count": 34,
   "metadata": {},
   "outputs": [
    {
     "data": {
      "text/plain": [
       "<cursor object at 0x0000013784233760; closed: 0>"
      ]
     },
     "execution_count": 34,
     "metadata": {},
     "output_type": "execute_result"
    }
   ],
   "source": [
    "# Primero, deshacer la transacción fallida\n",
    "conexionproductora.rollback()\n",
    "\n",
    "cursorproductora = conexionproductora.cursor()\n",
    "cursorproductora"
   ]
  },
  {
   "cell_type": "code",
   "execution_count": 35,
   "metadata": {},
   "outputs": [],
   "source": [
    "# Crear tablas\n",
    "# Tabla Municipio\n",
    "# index        object\n",
    "# latitud     float64\n",
    "# longitud    float64\n",
    "# 2            object\n",
    "\n",
    "querydecreacion1 = \"\"\"\n",
    "    CREATE TABLE IF NOT EXISTS Municipios (\n",
    "    id_municipio VARCHAR(50) PRIMARY KEY,\n",
    "    latitud DECIMAL,\n",
    "    longitud DECIMAL,\n",
    "    nombre VARCHAR(50)\n",
    ");\n",
    "\"\"\"\n",
    "\n",
    "# Ejecutar la consulta y confirmar los cambios\n",
    "cursorproductora.execute(querydecreacion1)\n",
    "conexionproductora.commit()\n",
    "\n",
    "# Tabla Lugar\n",
    "\n",
    "# municipio         object\n",
    "# category          object\n",
    "# fsq_id            object\n",
    "# closed_bucket     object\n",
    "# distance         float64\n",
    "# link              object\n",
    "# name              object\n",
    "# address           object\n",
    "# latitude         float64\n",
    "# longitude        float64\n",
    "# dtype: object\n",
    "\n",
    "querydecreacion2 = \"\"\"\n",
    "    CREATE TABLE IF NOT EXISTS Lugar (\n",
    "    id_lugar SERIAL PRIMARY KEY,\n",
    "    id_municipio VARCHAR,\n",
    "    categoria VARCHAR,\n",
    "    fsq_id VARCHAR,\n",
    "    closed_bucket VARCHAR,\n",
    "    distance DECIMAL,\n",
    "    link VARCHAR,\n",
    "    name VARCHAR,\n",
    "    address VARCHAR,\n",
    "    latitud DECIMAL,\n",
    "    longitud DECIMAL,\n",
    "    FOREIGN KEY (id_municipio) REFERENCES Municipios(id_municipio)\n",
    "    on delete restrict\n",
    "    on update cascade\n",
    ");\n",
    "\"\"\"\n",
    "\n",
    "# Ejecutar la consulta y confirmar los cambios\n",
    "cursorproductora.execute(querydecreacion2)\n",
    "conexionproductora.commit()\n",
    "\n",
    "# Tabla Tiempo\n",
    "\n",
    "# fecha                     datetime64\n",
    "# cielo                     object\n",
    "# temp._(°c)                 int64\n",
    "# sen._térmica_(°c)          int64\n",
    "# racha_máx._(km/h)        float64\n",
    "# precipitación_(mm)       float64\n",
    "# nieve_(mm)                 int64\n",
    "# humedad_relativa_(%)       int64\n",
    "# prob._precip.__(%)        object\n",
    "# prob._de_nieve_(%)         int64\n",
    "# prob._de_tormenta_(%)      int64\n",
    "# avisos                    object\n",
    "# dirección_viento          object\n",
    "# velocidad_del_viento       int64\n",
    "# localizacion_id           object\n",
    "\n",
    "querydecreacion3 = \"\"\"\n",
    "    CREATE TABLE IF NOT EXISTS Tiempo (\n",
    "    id_tiempo SERIAL PRIMARY KEY,\n",
    "    fecha DATE,\n",
    "    cielo VARCHAR,\n",
    "    temperatura INT,\n",
    "    sensacion_termica INT,\n",
    "    racha_max DECIMAL,\n",
    "    precipitacion DECIMAL,\n",
    "    nieve INT,\n",
    "    humedad_relativa INT,\n",
    "    prob_precip VARCHAR,\n",
    "    prob_de_nieve INT,\n",
    "    prob_de_tormenta INT,\n",
    "    avisos VARCHAR,\n",
    "    direccion_viento VARCHAR,\n",
    "    velocidad_viento INT,\n",
    "    id_municipio VARCHAR,\n",
    "    FOREIGN KEY (id_municipio) REFERENCES Municipios(id_municipio)\n",
    "    on delete restrict\n",
    "    on update cascade\n",
    ");\n",
    "\"\"\"\n",
    "\n",
    "# Ejecutar la consulta y confirmar los cambios\n",
    "cursorproductora.execute(querydecreacion3)\n",
    "conexionproductora.commit()"
   ]
  },
  {
   "cell_type": "code",
   "execution_count": 36,
   "metadata": {},
   "outputs": [
    {
     "data": {
      "text/plain": [
       "<cursor object at 0x000001378431D540; closed: 0>"
      ]
     },
     "execution_count": 36,
     "metadata": {},
     "output_type": "execute_result"
    }
   ],
   "source": [
    "# Primero, deshacer la transacción fallida\n",
    "conexionproductora.rollback()\n",
    "\n",
    "cursorproductora = conexionproductora.cursor()\n",
    "cursorproductora"
   ]
  },
  {
   "cell_type": "code",
   "execution_count": 37,
   "metadata": {},
   "outputs": [
    {
     "ename": "UniqueViolation",
     "evalue": "llave duplicada viola restricción de unicidad «municipios_pkey»\nDETAIL:  Ya existe la llave (id_municipio)=(acebeda-la).\n",
     "output_type": "error",
     "traceback": [
      "\u001b[1;31m---------------------------------------------------------------------------\u001b[0m",
      "\u001b[1;31mUniqueViolation\u001b[0m                           Traceback (most recent call last)",
      "Cell \u001b[1;32mIn[37], line 20\u001b[0m\n\u001b[0;32m     18\u001b[0m queryinsercion \u001b[38;5;241m=\u001b[39m \u001b[38;5;124m'\u001b[39m\u001b[38;5;124mINSERT INTO municipios (id_municipio, latitud, longitud, nombre) VALUES (\u001b[39m\u001b[38;5;132;01m%s\u001b[39;00m\u001b[38;5;124m,\u001b[39m\u001b[38;5;132;01m%s\u001b[39;00m\u001b[38;5;124m,\u001b[39m\u001b[38;5;132;01m%s\u001b[39;00m\u001b[38;5;124m,\u001b[39m\u001b[38;5;132;01m%s\u001b[39;00m\u001b[38;5;124m);\u001b[39m\u001b[38;5;124m'\u001b[39m\n\u001b[0;32m     19\u001b[0m listavaloresinsercion\u001b[38;5;241m=\u001b[39mlista_municipios\n\u001b[1;32m---> 20\u001b[0m \u001b[43mcursorproductora\u001b[49m\u001b[38;5;241;43m.\u001b[39;49m\u001b[43mexecutemany\u001b[49m\u001b[43m(\u001b[49m\u001b[43mqueryinsercion\u001b[49m\u001b[43m,\u001b[49m\u001b[43mlistavaloresinsercion\u001b[49m\u001b[43m)\u001b[49m\n\u001b[0;32m     21\u001b[0m conexionproductora\u001b[38;5;241m.\u001b[39mcommit()\n",
      "\u001b[1;31mUniqueViolation\u001b[0m: llave duplicada viola restricción de unicidad «municipios_pkey»\nDETAIL:  Ya existe la llave (id_municipio)=(acebeda-la).\n"
     ]
    }
   ],
   "source": [
    "# Insertar valores de tablas\n",
    "# Tabla Municipios\n",
    "    # id_municipio VARCHAR(50) PRIMARY KEY,\n",
    "    # latitud DECIMAL(9,7),\n",
    "    # longitud DECIMAL(9,7),\n",
    "    # nombre VARCHAR(50)\n",
    "\n",
    "    # query_insert = \"INSERT INTO clientes (nombre, edad) VALUES (%s, %s);\"\n",
    "    # valores_multiples = [\n",
    "    #     (\"Ana García\", 28),\n",
    "    #     (\"Luis Fernández\", 40),\n",
    "    #     (\"María López\", 22)\n",
    "    # ]\n",
    "    # cursor.executemany(query_insert, valores_multiples)\n",
    "    # connection.commit()\n",
    "    # print(\"Múltiples registros insertados exitosamente\")\n",
    "\n",
    "queryinsercion = 'INSERT INTO municipios (id_municipio, latitud, longitud, nombre) VALUES (%s,%s,%s,%s);'\n",
    "listavaloresinsercion=lista_municipios\n",
    "cursorproductora.executemany(queryinsercion,listavaloresinsercion)\n",
    "conexionproductora.commit()"
   ]
  },
  {
   "cell_type": "code",
   "execution_count": 38,
   "metadata": {},
   "outputs": [
    {
     "data": {
      "text/plain": [
       "<cursor object at 0x000002E7B1A1D540; closed: 0>"
      ]
     },
     "execution_count": 38,
     "metadata": {},
     "output_type": "execute_result"
    }
   ],
   "source": [
    "# Primero, deshacer la transacción fallida\n",
    "conexionproductora.rollback()\n",
    "\n",
    "cursorproductora = conexionproductora.cursor()\n",
    "cursorproductora"
   ]
  },
  {
   "cell_type": "code",
   "execution_count": 39,
   "metadata": {},
   "outputs": [],
   "source": [
    "# Tabla lugares\n",
    "\n",
    "    # id_lugar SERIAL PRIMARY KEY\n",
    "    # id_municipio VARCHAR,\n",
    "    # categoria VARCHAR,\n",
    "    # fsq_id VARCHAR,\n",
    "    # closed_bucket VARCHAR,\n",
    "    # distance DECIMAL,\n",
    "    # link VARCHAR,\n",
    "    # name VARCHAR,\n",
    "    # address VARCHAR,\n",
    "    # latitud DECIMAL,\n",
    "    # longitud DECIMAL,\n",
    "\n",
    "# ['municipio', 'category', 'fsq_id', 'closed_bucket', 'distance', 'link',\n",
    "#        'name', 'address', 'latitude', 'longitude]\n",
    "       \n",
    "queryinsercion = \"INSERT INTO lugar (id_municipio, categoria, fsq_id, closed_bucket, distance, link, name, address, latitud, longitud) VALUES (%s,%s,%s,%s,%s,%s,%s,%s,%s,%s);\"\n",
    "listavaloresinsercion=lista_lugares\n",
    "cursorproductora.executemany(queryinsercion,listavaloresinsercion)\n",
    "conexionproductora.commit()\n"
   ]
  },
  {
   "cell_type": "code",
   "execution_count": 73,
   "metadata": {},
   "outputs": [
    {
     "data": {
      "text/plain": [
       "<cursor object at 0x000002E7B399DEE0; closed: 0>"
      ]
     },
     "execution_count": 73,
     "metadata": {},
     "output_type": "execute_result"
    }
   ],
   "source": [
    "# Primero, deshacer la transacción fallida\n",
    "conexionproductora.rollback()\n",
    "\n",
    "cursorproductora = conexionproductora.cursor()\n",
    "cursorproductora"
   ]
  },
  {
   "cell_type": "code",
   "execution_count": 74,
   "metadata": {},
   "outputs": [],
   "source": [
    "# Tabla tiempo\n",
    "\n",
    "    # id_tiempo SERIAL PRIMARY KEY,\n",
    "    # fecha DATE,\n",
    "    # cielo VARCHAR,\n",
    "    # temperatura INT,\n",
    "    # sensacion_termica INT,\n",
    "    # racha_max DECIMAL,\n",
    "    # precipitacion DECIMAL,\n",
    "    # nieve INT,\n",
    "    # humedad_relativa INT,\n",
    "    # prob_precip VARCHAR,\n",
    "    # prob_de_nieve INT,\n",
    "    # prob_de_tormenta INT,\n",
    "    # avisos VARCHAR,\n",
    "    # direccion_viento VARCHAR,\n",
    "    # velocidad_viento INT,\n",
    "    # id_municipio VARCHAR,\n",
    "\n",
    "queryinsercion = \"INSERT INTO tiempo (fecha, cielo, temperatura, sensacion_termica, racha_max, precipitacion, nieve, humedad_relativa, prob_precip, prob_de_nieve, prob_de_tormenta, avisos, direccion_viento, velocidad_viento, id_municipio) VALUES (%s,%s,%s,%s,%s,%s,%s,%s,%s,%s,%s,%s,%s,%s,%s);\"\n",
    "listavaloresinsercion = lista_datosmeteo\n",
    "cursorproductora.executemany(queryinsercion, listavaloresinsercion)\n",
    "conexionproductora.commit()\n"
   ]
  },
  {
   "cell_type": "code",
   "execution_count": 80,
   "metadata": {},
   "outputs": [
    {
     "data": {
      "text/plain": [
       "<cursor object at 0x00000137866AF4C0; closed: 0>"
      ]
     },
     "execution_count": 80,
     "metadata": {},
     "output_type": "execute_result"
    }
   ],
   "source": [
    "# Primero, deshacer la transacción fallida\n",
    "conexionproductora.rollback()\n",
    "\n",
    "cursorproductora = conexionproductora.cursor()\n",
    "cursorproductora"
   ]
  },
  {
   "cell_type": "markdown",
   "metadata": {},
   "source": [
    "1. ¿Cuáles son los nombres y coordenadas de todos los municipios?\n",
    "Consulta: Obtener el nombre, latitud y longitud de todos los municipios.\n",
    "\n"
   ]
  },
  {
   "cell_type": "code",
   "execution_count": 60,
   "metadata": {},
   "outputs": [],
   "source": [
    "queryconsulta = \"\"\"\n",
    "SELECT nombre, latitud, longitud\n",
    "FROM Municipios;\n",
    "\"\"\"\n",
    "\n",
    "# Ejecutar la consulta y confirmar los cambios\n",
    "cursorproductora.execute(queryconsulta)\n",
    "resultados = cursorproductora.fetchall()"
   ]
  },
  {
   "cell_type": "markdown",
   "metadata": {},
   "source": [
    "2. ¿Qué lugares pertenecen a un municipio específico?\n",
    "Consulta: Mostrar los lugares que están asociados a un municipio particular (por ejemplo, \"Ajalvir\").\n",
    "\n"
   ]
  },
  {
   "cell_type": "code",
   "execution_count": 70,
   "metadata": {},
   "outputs": [],
   "source": [
    "queryconsulta = \"\"\"\n",
    "SELECT name, categoria\n",
    "FROM Lugar\n",
    "WHERE id_municipio= (\n",
    "    SELECT id_municipio\n",
    "    FROM municipios m \n",
    "    WHERE nombre = 'Ajalvir');\n",
    "\"\"\"\n",
    "\n",
    "# Ejecutar la consulta y confirmar los cambios\n",
    "cursorproductora.execute(queryconsulta)\n",
    "resultados = cursorproductora.fetchall()"
   ]
  },
  {
   "cell_type": "markdown",
   "metadata": {},
   "source": [
    "3. Consulta: Obtener los lugares que están abiertos (VeryLikelyOpen) en todos los municipios\n"
   ]
  },
  {
   "cell_type": "code",
   "execution_count": 74,
   "metadata": {},
   "outputs": [],
   "source": [
    "queryconsulta = \"\"\"\n",
    "SELECT name, id_municipio\n",
    "FROM Lugar\n",
    "WHERE closed_bucket = 'VeryLikelyOpen';\n",
    "\"\"\"\n",
    "\n",
    "# Ejecutar la consulta y confirmar los cambios\n",
    "cursorproductora.execute(queryconsulta)\n",
    "resultados = cursorproductora.fetchall()"
   ]
  },
  {
   "cell_type": "markdown",
   "metadata": {},
   "source": [
    "4. Consulta: ¿Cuál es la temperatura más alta registrada en cualquier municipio?\n",
    "\n"
   ]
  },
  {
   "cell_type": "code",
   "execution_count": 81,
   "metadata": {},
   "outputs": [],
   "source": [
    "queryconsulta = \"\"\"\n",
    "SELECT MAX(temperatura) AS temperatura_maxima\n",
    "FROM tiempo;\n",
    "\"\"\"\n",
    "\n",
    "# Ejecutar la consulta y confirmar los cambios\n",
    "cursorproductora.execute(queryconsulta)\n",
    "resultados = cursorproductora.fetchall()"
   ]
  },
  {
   "cell_type": "markdown",
   "metadata": {},
   "source": [
    "5. Consulta: Mostrar todos los municipios que tienen lugares con más de 1000 metros de distancia (según la columna distance)\n"
   ]
  },
  {
   "cell_type": "code",
   "execution_count": 82,
   "metadata": {},
   "outputs": [],
   "source": [
    "queryconsulta = \"SELECT M.nombre, L.name, L.distance FROM municipios m  JOIN Lugar L ON M.id_municipio = L.id_municipio WHERE L.distance > 1000;\"\n",
    "\n",
    "# Ejecutar la consulta y confirmar los cambios\n",
    "cursorproductora.execute(queryconsulta)\n",
    "resultados = cursorproductora.fetchall()\n",
    "# resultados"
   ]
  }
 ],
 "metadata": {
  "kernelspec": {
   "display_name": "Python 3",
   "language": "python",
   "name": "python3"
  },
  "language_info": {
   "codemirror_mode": {
    "name": "ipython",
    "version": 3
   },
   "file_extension": ".py",
   "mimetype": "text/x-python",
   "name": "python",
   "nbconvert_exporter": "python",
   "pygments_lexer": "ipython3",
   "version": "3.12.7"
  }
 },
 "nbformat": 4,
 "nbformat_minor": 2
}
